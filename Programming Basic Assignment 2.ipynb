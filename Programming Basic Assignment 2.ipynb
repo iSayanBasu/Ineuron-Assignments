{
 "cells": [
  {
   "cell_type": "code",
   "execution_count": 5,
   "id": "ffd271e1",
   "metadata": {},
   "outputs": [
    {
     "name": "stdout",
     "output_type": "stream",
     "text": [
      "Enter the Km to be converted - 50\n",
      "The value in mile =  31.068550000000002\n"
     ]
    }
   ],
   "source": [
    "#1 Convert Km to Mile\n",
    "km=int(input(\"Enter the Km to be converted - \"))\n",
    "mile= 0.621371*km\n",
    "print(\"The value in mile = \", mile)"
   ]
  },
  {
   "cell_type": "code",
   "execution_count": 7,
   "id": "22016b1f",
   "metadata": {},
   "outputs": [
    {
     "name": "stdout",
     "output_type": "stream",
     "text": [
      "Enter the value in Celcius - -10\n",
      "The temperature in farenheit is  14.0\n"
     ]
    }
   ],
   "source": [
    "#2 Celcius to Farenheit \n",
    "celcius = int(input(\"Enter the value in Celcius - \"))\n",
    "far = (celcius * (9/5)) + 32\n",
    "print(\"The temperature in farenheit is \", far)"
   ]
  },
  {
   "cell_type": "code",
   "execution_count": 10,
   "id": "9015e10a",
   "metadata": {},
   "outputs": [
    {
     "name": "stdout",
     "output_type": "stream",
     "text": [
      "                                  2021\n",
      "\n",
      "      January                   February                   March\n",
      "Mo Tu We Th Fr Sa Su      Mo Tu We Th Fr Sa Su      Mo Tu We Th Fr Sa Su\n",
      "             1  2  3       1  2  3  4  5  6  7       1  2  3  4  5  6  7\n",
      " 4  5  6  7  8  9 10       8  9 10 11 12 13 14       8  9 10 11 12 13 14\n",
      "11 12 13 14 15 16 17      15 16 17 18 19 20 21      15 16 17 18 19 20 21\n",
      "18 19 20 21 22 23 24      22 23 24 25 26 27 28      22 23 24 25 26 27 28\n",
      "25 26 27 28 29 30 31                                29 30 31\n",
      "\n",
      "       April                      May                       June\n",
      "Mo Tu We Th Fr Sa Su      Mo Tu We Th Fr Sa Su      Mo Tu We Th Fr Sa Su\n",
      "          1  2  3  4                      1  2          1  2  3  4  5  6\n",
      " 5  6  7  8  9 10 11       3  4  5  6  7  8  9       7  8  9 10 11 12 13\n",
      "12 13 14 15 16 17 18      10 11 12 13 14 15 16      14 15 16 17 18 19 20\n",
      "19 20 21 22 23 24 25      17 18 19 20 21 22 23      21 22 23 24 25 26 27\n",
      "26 27 28 29 30            24 25 26 27 28 29 30      28 29 30\n",
      "                          31\n",
      "\n",
      "        July                     August                  September\n",
      "Mo Tu We Th Fr Sa Su      Mo Tu We Th Fr Sa Su      Mo Tu We Th Fr Sa Su\n",
      "          1  2  3  4                         1             1  2  3  4  5\n",
      " 5  6  7  8  9 10 11       2  3  4  5  6  7  8       6  7  8  9 10 11 12\n",
      "12 13 14 15 16 17 18       9 10 11 12 13 14 15      13 14 15 16 17 18 19\n",
      "19 20 21 22 23 24 25      16 17 18 19 20 21 22      20 21 22 23 24 25 26\n",
      "26 27 28 29 30 31         23 24 25 26 27 28 29      27 28 29 30\n",
      "                          30 31\n",
      "\n",
      "      October                   November                  December\n",
      "Mo Tu We Th Fr Sa Su      Mo Tu We Th Fr Sa Su      Mo Tu We Th Fr Sa Su\n",
      "             1  2  3       1  2  3  4  5  6  7             1  2  3  4  5\n",
      " 4  5  6  7  8  9 10       8  9 10 11 12 13 14       6  7  8  9 10 11 12\n",
      "11 12 13 14 15 16 17      15 16 17 18 19 20 21      13 14 15 16 17 18 19\n",
      "18 19 20 21 22 23 24      22 23 24 25 26 27 28      20 21 22 23 24 25 26\n",
      "25 26 27 28 29 30 31      29 30                     27 28 29 30 31\n",
      "\n"
     ]
    }
   ],
   "source": [
    "#3 Display Calender\n",
    "\n",
    "import calendar as cl\n",
    "year = 2021\n",
    "print(cl.calendar(year))\n"
   ]
  },
  {
   "cell_type": "code",
   "execution_count": 21,
   "id": "f10556ba",
   "metadata": {},
   "outputs": [
    {
     "name": "stdout",
     "output_type": "stream",
     "text": [
      "The roots are (-1.5345224838248488+0j) (-0.46547751617515126+0j)\n"
     ]
    }
   ],
   "source": [
    "#Quadratic Equation \n",
    "import cmath\n",
    "a = 7\n",
    "b = 14\n",
    "c = 5\n",
    "d = (b**2) - (4 * a*c) \n",
    "root1 = (-b-cmath.sqrt(d))/(2 * a)\n",
    "root2 = (-b + cmath.sqrt(d))/(2 * a)\n",
    "print(\"The roots are\",root1,root2)\n"
   ]
  },
  {
   "cell_type": "code",
   "execution_count": 16,
   "id": "df055034",
   "metadata": {},
   "outputs": [
    {
     "name": "stdout",
     "output_type": "stream",
     "text": [
      "30 20\n"
     ]
    }
   ],
   "source": [
    "  #5 Swap 2 variable not using temp\n",
    "\n",
    "a= 20\n",
    "b = 30\n",
    "a= a+ b\n",
    "b = a- b\n",
    "a = a -b\n",
    "print(a,b)"
   ]
  }
 ],
 "metadata": {
  "kernelspec": {
   "display_name": "Python 3",
   "language": "python",
   "name": "python3"
  },
  "language_info": {
   "codemirror_mode": {
    "name": "ipython",
    "version": 3
   },
   "file_extension": ".py",
   "mimetype": "text/x-python",
   "name": "python",
   "nbconvert_exporter": "python",
   "pygments_lexer": "ipython3",
   "version": "3.8.8"
  }
 },
 "nbformat": 4,
 "nbformat_minor": 5
}
