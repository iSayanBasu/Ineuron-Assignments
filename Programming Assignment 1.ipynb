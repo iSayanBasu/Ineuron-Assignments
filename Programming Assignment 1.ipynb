{
 "cells": [
  {
   "cell_type": "code",
   "execution_count": 3,
   "id": "af44050f",
   "metadata": {},
   "outputs": [
    {
     "name": "stdout",
     "output_type": "stream",
     "text": [
      "Hello Python\n"
     ]
    }
   ],
   "source": [
    "#1 \n",
    "print(\"Hello Python\")"
   ]
  },
  {
   "cell_type": "code",
   "execution_count": 6,
   "id": "676aee0b",
   "metadata": {},
   "outputs": [
    {
     "name": "stdout",
     "output_type": "stream",
     "text": [
      "Enter the first number45\n",
      "Enter the second number9\n",
      "The addition of 2 number is 54 and the division of 2 number is 5.0\n"
     ]
    }
   ],
   "source": [
    "#2 Arithmatic Operation(Add and Divide)\n",
    "a= int(input(\"Enter the first number\"))\n",
    "b= int(input(\"Enter the second number\"))\n",
    "c= a+b\n",
    "d= a/b\n",
    "print(\"The addition of 2 number is\", c , \"and the division of 2 number is\", d)"
   ]
  },
  {
   "cell_type": "code",
   "execution_count": 7,
   "id": "a8324850",
   "metadata": {},
   "outputs": [
    {
     "name": "stdout",
     "output_type": "stream",
     "text": [
      "Enter the base of the triangle12\n",
      "Enter the height of the triangle6\n",
      "the area of the triangle is 36.0\n"
     ]
    }
   ],
   "source": [
    "#3 Find area of Triangle\n",
    "b=int(input(\"Enter the base of the triangle\"))\n",
    "h=int(input(\"Enter the height of the triangle\"))\n",
    "area=0.5*b*h\n",
    "print(\"the area of the triangle is\", area)"
   ]
  },
  {
   "cell_type": "code",
   "execution_count": 8,
   "id": "85971110",
   "metadata": {},
   "outputs": [
    {
     "name": "stdout",
     "output_type": "stream",
     "text": [
      "30 10\n"
     ]
    }
   ],
   "source": [
    "#4 Swap 2 Variable\n",
    "a = 10\n",
    "b = 30\n",
    "temp = b\n",
    "b=a\n",
    "a= temp\n",
    "print(a,b)\n"
   ]
  },
  {
   "cell_type": "code",
   "execution_count": 38,
   "id": "f188b1a4",
   "metadata": {},
   "outputs": [
    {
     "name": "stdout",
     "output_type": "stream",
     "text": [
      "57\n"
     ]
    }
   ],
   "source": [
    "#5 Print Random Number\n",
    "import random\n",
    "a = random.randint(0,100)\n",
    "print(a)\n"
   ]
  }
 ],
 "metadata": {
  "kernelspec": {
   "display_name": "Python 3",
   "language": "python",
   "name": "python3"
  },
  "language_info": {
   "codemirror_mode": {
    "name": "ipython",
    "version": 3
   },
   "file_extension": ".py",
   "mimetype": "text/x-python",
   "name": "python",
   "nbconvert_exporter": "python",
   "pygments_lexer": "ipython3",
   "version": "3.8.8"
  }
 },
 "nbformat": 4,
 "nbformat_minor": 5
}
